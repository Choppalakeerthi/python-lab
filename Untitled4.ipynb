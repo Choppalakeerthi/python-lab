{
  "nbformat": 4,
  "nbformat_minor": 0,
  "metadata": {
    "colab": {
      "name": "Untitled4.ipynb",
      "provenance": [],
      "authorship_tag": "ABX9TyMPDip9V4rnD82HyGTzP35Y",
      "include_colab_link": true
    },
    "kernelspec": {
      "name": "python3",
      "display_name": "Python 3"
    },
    "language_info": {
      "name": "python"
    }
  },
  "cells": [
    {
      "cell_type": "markdown",
      "metadata": {
        "id": "view-in-github",
        "colab_type": "text"
      },
      "source": [
        "<a href=\"https://colab.research.google.com/github/Choppalakeerthi/python-lab/blob/main/Untitled4.ipynb\" target=\"_parent\"><img src=\"https://colab.research.google.com/assets/colab-badge.svg\" alt=\"Open In Colab\"/></a>"
      ]
    },
    {
      "cell_type": "markdown",
      "metadata": {
        "id": "YpEMhOa3YNta"
      },
      "source": [
        "19A21B0519 \n",
        "Ch.keerthi \n",
        "CSE SHIFT"
      ]
    },
    {
      "cell_type": "markdown",
      "metadata": {
        "id": "X7OKVgweYvjI"
      },
      "source": [
        "Exercise 1\n",
        "(a)"
      ]
    },
    {
      "cell_type": "markdown",
      "metadata": {
        "id": "wVCY8e6XyWAo"
      },
      "source": [
        ""
      ]
    },
    {
      "cell_type": "code",
      "metadata": {
        "colab": {
          "base_uri": "https://localhost:8080/"
        },
        "id": "HHkTe_VGfsJo",
        "outputId": "9a93891b-5088-4da9-bfbd-35dcf3a79880"
      },
      "source": [
        "print(\"Hello keerthi\")"
      ],
      "execution_count": null,
      "outputs": [
        {
          "output_type": "stream",
          "text": [
            "Hello keerthi\n"
          ],
          "name": "stdout"
        }
      ]
    },
    {
      "cell_type": "code",
      "metadata": {
        "colab": {
          "base_uri": "https://localhost:8080/"
        },
        "id": "EeZ7l5CWf8b0",
        "outputId": "e69a2fdd-39b5-4458-89ad-4e0a95de68e7"
      },
      "source": [
        "Lst=[\"keerthi\", \"19A21BO519\",17]\n",
        "print(Lst)"
      ],
      "execution_count": null,
      "outputs": [
        {
          "output_type": "stream",
          "text": [
            "['keerthi', '19A21BO519', 17]\n"
          ],
          "name": "stdout"
        }
      ]
    },
    {
      "cell_type": "markdown",
      "metadata": {
        "id": "C-4ouR7HgzHD"
      },
      "source": [
        "Exercise 1(b) write a program to purposefully raise indentation Error and correct  "
      ]
    },
    {
      "cell_type": "code",
      "metadata": {
        "colab": {
          "base_uri": "https://localhost:8080/",
          "height": 131
        },
        "id": "Z9WQ1OBUiLxm",
        "outputId": "b2624dd4-a0fd-429b-9c9d-6a9aca63d31d"
      },
      "source": [
        "if True: \n",
        "print(\"True\")\n",
        "else:\n",
        "   print(\"False\")"
      ],
      "execution_count": null,
      "outputs": [
        {
          "output_type": "error",
          "ename": "IndentationError",
          "evalue": "ignored",
          "traceback": [
            "\u001b[0;36m  File \u001b[0;32m\"<ipython-input-14-0de656311a96>\"\u001b[0;36m, line \u001b[0;32m2\u001b[0m\n\u001b[0;31m    print(\"True\")\u001b[0m\n\u001b[0m        ^\u001b[0m\n\u001b[0;31mIndentationError\u001b[0m\u001b[0;31m:\u001b[0m expected an indented block\n"
          ]
        }
      ]
    },
    {
      "cell_type": "code",
      "metadata": {
        "id": "jvs2yKQNizRb",
        "colab": {
          "base_uri": "https://localhost:8080/"
        },
        "outputId": "1d390486-4e8a-4810-c3e0-4f664f72c3e7"
      },
      "source": [
        "if True:\n",
        "    print(\"True\")\n",
        "else:\n",
        "    print(\"False\")\n"
      ],
      "execution_count": null,
      "outputs": [
        {
          "output_type": "stream",
          "text": [
            "True\n"
          ],
          "name": "stdout"
        }
      ]
    },
    {
      "cell_type": "markdown",
      "metadata": {
        "id": "q7Pczy1GlP5t"
      },
      "source": [
        "Exercise 2\n",
        "(a) write a program to compute distance between two points "
      ]
    },
    {
      "cell_type": "code",
      "metadata": {
        "id": "Cs2iipzrosjt",
        "colab": {
          "base_uri": "https://localhost:8080/"
        },
        "outputId": "6a43b3e7-7362-4284-eebd-6cc794d4ef2f"
      },
      "source": [
        "x1=int(input(\"Enter x coordinate of point1:\"))\n",
        "y1=int(input(\"Enter y coordinate of point1:\"))\n",
        "x2=int(input(\"Enter y coordinate of point2:\"))\n",
        "y2=int(input(\"Enter y coordinate of point2:\"))\n",
        "d=(x2-x1)**2 +(y2-y1)**2\n",
        "d=d**(1/2)\n",
        "print(d)"
      ],
      "execution_count": null,
      "outputs": [
        {
          "output_type": "stream",
          "text": [
            "Enter x coordinate of point1:2\n",
            "Enter y coordinate of point1:2\n",
            "Enter y coordinate of point2:3\n",
            "Enter y coordinate of point2:3\n",
            "1.4142135623730951\n"
          ],
          "name": "stdout"
        }
      ]
    },
    {
      "cell_type": "markdown",
      "metadata": {
        "id": "-Sw3W1ae5xXj"
      },
      "source": [
        "2(b)\n",
        "Command line arguments"
      ]
    },
    {
      "cell_type": "code",
      "metadata": {
        "colab": {
          "base_uri": "https://localhost:8080/",
          "height": 302
        },
        "id": "N5k3YJQj52gI",
        "outputId": "ff87e28b-dc8f-4ccb-83f0-fe5fa3d09641"
      },
      "source": [
        " \n",
        "import sys\n",
        "a=int(sys.argv[1])\n",
        "b=int(sys.argv[2])\n",
        "sum=a+b\n",
        "print(\"Sum of two numbers :\",sum)"
      ],
      "execution_count": null,
      "outputs": [
        {
          "output_type": "error",
          "ename": "ValueError",
          "evalue": "ignored",
          "traceback": [
            "\u001b[0;31m---------------------------------------------------------------------------\u001b[0m",
            "\u001b[0;31mValueError\u001b[0m                                Traceback (most recent call last)",
            "\u001b[0;32m<ipython-input-2-63467bfb6682>\u001b[0m in \u001b[0;36m<module>\u001b[0;34m()\u001b[0m\n\u001b[1;32m      1\u001b[0m \u001b[0;34m\u001b[0m\u001b[0m\n\u001b[1;32m      2\u001b[0m \u001b[0;32mimport\u001b[0m \u001b[0msys\u001b[0m\u001b[0;34m\u001b[0m\u001b[0;34m\u001b[0m\u001b[0m\n\u001b[0;32m----> 3\u001b[0;31m \u001b[0ma\u001b[0m\u001b[0;34m=\u001b[0m\u001b[0mint\u001b[0m\u001b[0;34m(\u001b[0m\u001b[0msys\u001b[0m\u001b[0;34m.\u001b[0m\u001b[0margv\u001b[0m\u001b[0;34m[\u001b[0m\u001b[0;36m1\u001b[0m\u001b[0;34m]\u001b[0m\u001b[0;34m)\u001b[0m\u001b[0;34m\u001b[0m\u001b[0;34m\u001b[0m\u001b[0m\n\u001b[0m\u001b[1;32m      4\u001b[0m \u001b[0mb\u001b[0m\u001b[0;34m=\u001b[0m\u001b[0mint\u001b[0m\u001b[0;34m(\u001b[0m\u001b[0msys\u001b[0m\u001b[0;34m.\u001b[0m\u001b[0margv\u001b[0m\u001b[0;34m[\u001b[0m\u001b[0;36m2\u001b[0m\u001b[0;34m]\u001b[0m\u001b[0;34m)\u001b[0m\u001b[0;34m\u001b[0m\u001b[0;34m\u001b[0m\u001b[0m\n\u001b[1;32m      5\u001b[0m \u001b[0msum\u001b[0m\u001b[0;34m=\u001b[0m\u001b[0ma\u001b[0m\u001b[0;34m+\u001b[0m\u001b[0mb\u001b[0m\u001b[0;34m\u001b[0m\u001b[0;34m\u001b[0m\u001b[0m\n",
            "\u001b[0;31mValueError\u001b[0m: invalid literal for int() with base 10: '-f'"
          ]
        }
      ]
    },
    {
      "cell_type": "markdown",
      "metadata": {
        "id": "j2-cfa7k6Ktb"
      },
      "source": [
        "Exercise 3(a)\n",
        "To check whether the given number is even or odd"
      ]
    },
    {
      "cell_type": "code",
      "metadata": {
        "colab": {
          "base_uri": "https://localhost:8080/"
        },
        "id": "AboOI4m-6WdQ",
        "outputId": "7905bd4f-eed6-4c21-ce89-80b606ef07b0"
      },
      "source": [
        " \n",
        "n=int(input(\"Enter a number:\"))\n",
        "if (n%2==0):\n",
        "  print(n,\"is an even number\")\n",
        "else:\n",
        "  print(n,\"is an odd number\")"
      ],
      "execution_count": null,
      "outputs": [
        {
          "output_type": "stream",
          "text": [
            "Enter a number:5\n",
            "5 is an odd number\n"
          ],
          "name": "stdout"
        }
      ]
    },
    {
      "cell_type": "markdown",
      "metadata": {
        "id": "pxREmODb6sAX"
      },
      "source": [
        "3(b) By using for loop write a program to print 1/2,1/3,1/4,....1/10"
      ]
    },
    {
      "cell_type": "code",
      "metadata": {
        "colab": {
          "base_uri": "https://localhost:8080/"
        },
        "id": "0hA1Kjkz6_AB",
        "outputId": "e11eb409-52b7-4b72-9185-29c015c12e72"
      },
      "source": [
        "for I in range(2,10):\n",
        "  print(1/I)"
      ],
      "execution_count": null,
      "outputs": [
        {
          "output_type": "stream",
          "text": [
            "0.5\n",
            "0.3333333333333333\n",
            "0.25\n",
            "0.2\n",
            "0.16666666666666666\n",
            "0.14285714285714285\n",
            "0.125\n",
            "0.1111111111111111\n"
          ],
          "name": "stdout"
        }
      ]
    },
    {
      "cell_type": "markdown",
      "metadata": {
        "id": "lD5ohM9C7XR3"
      },
      "source": [
        " 3(c)\n",
        " Sequences are one of the principal built-in data types besides numerics, mappings, files, instances and exceptions. Python provides for six sequence (or sequential) data types:strings,byte sequences,byte arrays,lists,tuples,range objects The items or elements of strings, lists and tuples are ordered in a defined sequence The elements can be accessed via indices"
      ]
    },
    {
      "cell_type": "code",
      "metadata": {
        "colab": {
          "base_uri": "https://localhost:8080/"
        },
        "id": "1ToAesNn7iqE",
        "outputId": "6a9c9675-a012-4106-83e8-066e51801f4c"
      },
      "source": [
        " \n",
        "Lst=[]\n",
        "n=int(input(\"Enter limit:\"))\n",
        "print(\"Enter elements:\")\n",
        "for i in range(n):\n",
        "  a=int(input())\n",
        "  Lst.append(a)\n",
        "print(Lst)"
      ],
      "execution_count": null,
      "outputs": [
        {
          "output_type": "stream",
          "text": [
            "Enter limit:3\n",
            "Enter elements:\n",
            "1\n",
            "2\n",
            "3\n",
            "[1, 2, 3]\n"
          ],
          "name": "stdout"
        }
      ]
    },
    {
      "cell_type": "markdown",
      "metadata": {
        "id": "tOQTNb0Y76ng"
      },
      "source": [
        "3(d)\n",
        "Write a program using while loop that asks user a limit  and print countdown"
      ]
    },
    {
      "cell_type": "code",
      "metadata": {
        "colab": {
          "base_uri": "https://localhost:8080/"
        },
        "id": "fPF_WWj_8NnI",
        "outputId": "13300d3d-8b38-4b1a-895c-29aa6b442754"
      },
      "source": [
        " \n",
        "n=int(input(\"Enter the number to start countdown:\"))\n",
        "while n>=0:\n",
        "  print(n)\n",
        "  n-=1"
      ],
      "execution_count": null,
      "outputs": [
        {
          "output_type": "stream",
          "text": [
            "Enter the number to start countdown:8\n",
            "8\n",
            "7\n",
            "6\n",
            "5\n",
            "4\n",
            "3\n",
            "2\n",
            "1\n",
            "0\n"
          ],
          "name": "stdout"
        }
      ]
    },
    {
      "cell_type": "markdown",
      "metadata": {
        "id": "UGxIQGpu8tSN"
      },
      "source": [
        "Exercise 4(a)\n",
        "To find the sum of all prime numbers below 2 million"
      ]
    },
    {
      "cell_type": "code",
      "metadata": {
        "colab": {
          "base_uri": "https://localhost:8080/"
        },
        "id": "K7eCpA3A9Atf",
        "outputId": "aed6e7d2-1b22-4b9c-be58-cc735ab02bb4"
      },
      "source": [
        " \n",
        "sum=0\n",
        "for i in range(1,2000):\n",
        "  count=0\n",
        "  for j in range(1,i):\n",
        "    if i%j==0:\n",
        "      count+=1\n",
        "  if count==1:\n",
        "    sum+=i\n",
        "print(\"Sum of all prime numbers is\",sum)"
      ],
      "execution_count": null,
      "outputs": [
        {
          "output_type": "stream",
          "text": [
            "Sum of all prime numbers is 277050\n"
          ],
          "name": "stdout"
        }
      ]
    },
    {
      "cell_type": "markdown",
      "metadata": {
        "id": "lVqBuiLr9Zb4"
      },
      "source": [
        "4(b)\n",
        "Fibonacci series"
      ]
    },
    {
      "cell_type": "code",
      "metadata": {
        "colab": {
          "base_uri": "https://localhost:8080/"
        },
        "id": "BLnjywe_9grO",
        "outputId": "c9ed859f-4123-4d05-de06-d9a141f07f86"
      },
      "source": [
        "a=1\n",
        "b=2\n",
        "c=0\n",
        "sum=0\n",
        "while c<3000000:\n",
        "  c=a+b\n",
        "  a=b\n",
        "  b=c\n",
        "  if c%2==0:\n",
        "    sum+=c\n",
        "print()\n",
        "print(\"Sum of even numbers in fibonacci series\\n below 4 million is\",sum+2)"
      ],
      "execution_count": null,
      "outputs": [
        {
          "output_type": "stream",
          "text": [
            "\n",
            "Sum of even numbers in fibonacci series\n",
            " below 4 million is 4613732\n"
          ],
          "name": "stdout"
        }
      ]
    },
    {
      "cell_type": "markdown",
      "metadata": {
        "id": "ogfNW1SB9xoQ"
      },
      "source": [
        "Exercise 5(a)\n",
        "Write a program to count the no.of characters in 5he string and store them in a dictionary data structure"
      ]
    },
    {
      "cell_type": "code",
      "metadata": {
        "colab": {
          "base_uri": "https://localhost:8080/",
          "height": 165
        },
        "id": "4v206tkC-g0A",
        "outputId": "47a9dcdf-d950-423d-9be3-3f0289a63add"
      },
      "source": [
        "name=input(\"Enter a Name:\")\n",
        "dic={}\n",
        " \n",
        "for ch in name:\n",
        "  keys=dic.keys()\n",
        " \n",
        "  if(ch in keys):\n",
        "     dic[ch]=dic[ch]+1\n",
        "   else:\n",
        "      dic[ch]=1\n",
        " \n",
        "print(\"Doctionary is:\",dic)"
      ],
      "execution_count": null,
      "outputs": [
        {
          "output_type": "error",
          "ename": "IndentationError",
          "evalue": "ignored",
          "traceback": [
            "\u001b[0;36m  File \u001b[0;32m\"<ipython-input-9-1d30b4eb7232>\"\u001b[0;36m, line \u001b[0;32m9\u001b[0m\n\u001b[0;31m    else:\u001b[0m\n\u001b[0m         ^\u001b[0m\n\u001b[0;31mIndentationError\u001b[0m\u001b[0;31m:\u001b[0m unindent does not match any outer indentation level\n"
          ]
        }
      ]
    },
    {
      "cell_type": "markdown",
      "metadata": {
        "id": "_3phmubP_t-J"
      },
      "source": [
        "Exercise 6\n",
        "Write a program to count frequency of characters in a given file"
      ]
    },
    {
      "cell_type": "code",
      "metadata": {
        "colab": {
          "base_uri": "https://localhost:8080/",
          "height": 354
        },
        "id": "Qwr9hXCT_-85",
        "outputId": "b4e486f1-2f22-4e48-9983-fc302fdb1b92"
      },
      "source": [
        " \n",
        "ftype=['.py','.c','.txt']\n",
        "fn=input(\"enter the file name\")\n",
        "f=open(fn,\"r\")\n",
        "count=dict()\n",
        "print(\"given file  is\",end=\" \")\n",
        "for ft in ftype:\n",
        "  if(ft in fn):\n",
        "    if(ft=='.py'):\n",
        "      print(\"python file\")\n",
        "    elif(ft=='.c'):\n",
        "      print(\"c file\")\n",
        "    else:\n",
        "      print(\"txt file\")\n",
        "for line in f:\n",
        "  for ch in line:\n",
        "    if ch in count:\n",
        "      count[ch]=count[ch]+1\n",
        "    else:\n",
        "      count[ch]=1\n",
        "print(count)\n",
        "f.close()"
      ],
      "execution_count": null,
      "outputs": [
        {
          "output_type": "stream",
          "text": [
            "enter the file namemydata.txt\n"
          ],
          "name": "stdout"
        },
        {
          "output_type": "error",
          "ename": "FileNotFoundError",
          "evalue": "ignored",
          "traceback": [
            "\u001b[0;31m---------------------------------------------------------------------------\u001b[0m",
            "\u001b[0;31mFileNotFoundError\u001b[0m                         Traceback (most recent call last)",
            "\u001b[0;32m<ipython-input-11-bd47af70fb8d>\u001b[0m in \u001b[0;36m<module>\u001b[0;34m()\u001b[0m\n\u001b[1;32m      2\u001b[0m \u001b[0mftype\u001b[0m\u001b[0;34m=\u001b[0m\u001b[0;34m[\u001b[0m\u001b[0;34m'.py'\u001b[0m\u001b[0;34m,\u001b[0m\u001b[0;34m'.c'\u001b[0m\u001b[0;34m,\u001b[0m\u001b[0;34m'.txt'\u001b[0m\u001b[0;34m]\u001b[0m\u001b[0;34m\u001b[0m\u001b[0;34m\u001b[0m\u001b[0m\n\u001b[1;32m      3\u001b[0m \u001b[0mfn\u001b[0m\u001b[0;34m=\u001b[0m\u001b[0minput\u001b[0m\u001b[0;34m(\u001b[0m\u001b[0;34m\"enter the file name\"\u001b[0m\u001b[0;34m)\u001b[0m\u001b[0;34m\u001b[0m\u001b[0;34m\u001b[0m\u001b[0m\n\u001b[0;32m----> 4\u001b[0;31m \u001b[0mf\u001b[0m\u001b[0;34m=\u001b[0m\u001b[0mopen\u001b[0m\u001b[0;34m(\u001b[0m\u001b[0mfn\u001b[0m\u001b[0;34m,\u001b[0m\u001b[0;34m\"r\"\u001b[0m\u001b[0;34m)\u001b[0m\u001b[0;34m\u001b[0m\u001b[0;34m\u001b[0m\u001b[0m\n\u001b[0m\u001b[1;32m      5\u001b[0m \u001b[0mcount\u001b[0m\u001b[0;34m=\u001b[0m\u001b[0mdict\u001b[0m\u001b[0;34m(\u001b[0m\u001b[0;34m)\u001b[0m\u001b[0;34m\u001b[0m\u001b[0;34m\u001b[0m\u001b[0m\n\u001b[1;32m      6\u001b[0m \u001b[0mprint\u001b[0m\u001b[0;34m(\u001b[0m\u001b[0;34m\"given file  is\"\u001b[0m\u001b[0;34m,\u001b[0m\u001b[0mend\u001b[0m\u001b[0;34m=\u001b[0m\u001b[0;34m\" \"\u001b[0m\u001b[0;34m)\u001b[0m\u001b[0;34m\u001b[0m\u001b[0;34m\u001b[0m\u001b[0m\n",
            "\u001b[0;31mFileNotFoundError\u001b[0m: [Errno 2] No such file or directory: 'mydata.txt'"
          ]
        }
      ]
    },
    {
      "cell_type": "markdown",
      "metadata": {
        "id": "THTd32IrA5m4"
      },
      "source": [
        "Exercise 8(a)"
      ]
    },
    {
      "cell_type": "code",
      "metadata": {
        "colab": {
          "base_uri": "https://localhost:8080/",
          "height": 165
        },
        "id": "cIkj1wekA8U0",
        "outputId": "0d7ced45-f4b1-428c-dc8a-d2c2283a2ef5"
      },
      "source": [
        " \n",
        "obj=open(\"abc.txt\",\"r\")\n",
        "if obj:\n",
        " st=obj.read()\n",
        " print(\"file content is :\\n\",st)\n",
        " obj.close()\n",
        " \n",
        "printf()\n",
        "lines=st.split(\"\\n\")\n",
        "for ln in lines:\n",
        " i=len(ln)-1\n",
        " while(i>=0):\n",
        "  print(ln[i],end='')\n",
        "  i=i-1\n",
        " print()\n",
        "import math\n",
        "def collide(ball_tup1,ball_tup2):\n",
        "  x1,y1,r1=ball_tup1\n",
        "  x2,y2,r2=ball_tup2\n",
        "  print(\"ball-01: \",ball_tup1)\n",
        "  print(\"ball-02: \",ball_tup2)\n",
        "  d=math.sqrt((x2-x1)**2+(y2-y1)**2)\n",
        "  print(\"centroid  distancee between two blls\",d)\n",
        "  print(\"sum of radius ball-01 and ball -02 is: {}+{}={}\".format(r1,r2,r1+r2))\n",
        " \n",
        "  if d<=r1+r2:\n",
        "    return true\n",
        "  else:\n",
        "    return false\n",
        " \n",
        "b1=(-2,-4,3)\n",
        "b2=(4,6,3)\n",
        " \n",
        "if collide(b1,b2):\n",
        "    print(\"balls collides\")\n",
        "else:\n",
        "    print(\"balls not collide\")"
      ],
      "execution_count": null,
      "outputs": [
        {
          "output_type": "error",
          "ename": "IndentationError",
          "evalue": "ignored",
          "traceback": [
            "\u001b[0;36m  File \u001b[0;32m\"<ipython-input-12-7c635ed00240>\"\u001b[0;36m, line \u001b[0;32m4\u001b[0m\n\u001b[0;31m    st=obj.read()\u001b[0m\n\u001b[0m     ^\u001b[0m\n\u001b[0;31mIndentationError\u001b[0m\u001b[0;31m:\u001b[0m expected an indented block\n"
          ]
        }
      ]
    },
    {
      "cell_type": "markdown",
      "metadata": {
        "id": "aaMf-4kuBCG6"
      },
      "source": [
        "8(b)"
      ]
    },
    {
      "cell_type": "code",
      "metadata": {
        "colab": {
          "base_uri": "https://localhost:8080/",
          "height": 165
        },
        "id": "zlhFaY62BEB5",
        "outputId": "5ced9832-c2d6-486a-9ee9-dcd432393a3a"
      },
      "source": [
        " \n",
        "def list_mean(num_list):\n",
        " return sum(num_list)/len(num_list) \n",
        "def list_median(num_list): \n",
        "  num_list.sort()\n",
        "  n=len(num_list)\n",
        "  mid=n/2\n",
        "  if (n%2==1):\n",
        "    return num_list[mid]\n",
        "  else:\n",
        "    mid\n",
        "    return (num_list[mid-1]+num_list[mid])/2\n",
        "def list_mode(num_list):\n",
        "  num_list.sort()\n",
        "  temp=[]\n",
        " \n",
        "  i=0\n",
        "  while i<len(num_list):\n",
        "    temp.append(num_list.count(num_list[i]))\n",
        "    i+=1\n",
        " \n",
        "  dic=dict(zip(num_list,temp))\n",
        "  mode={k for(k,v) in dic.items() if v==max(temp)}\n",
        "  return mode\n",
        "  \n",
        "lst=[1,1,2,2,2,3,4,5,3]\n",
        " \n",
        " \n",
        "print(\"given list is:\",lst)\n",
        "print(\"mean of given list is:\",list_mean(lst))\n",
        "print(\"median of given list is:\",list_median(lst))\n",
        "print(\"mode of given list is:\",list_mode(lst))\n",
        " \n",
        " \n",
        "check lst"
      ],
      "execution_count": null,
      "outputs": [
        {
          "output_type": "error",
          "ename": "IndentationError",
          "evalue": "ignored",
          "traceback": [
            "\u001b[0;36m  File \u001b[0;32m\"<ipython-input-13-26f1d65c5288>\"\u001b[0;36m, line \u001b[0;32m3\u001b[0m\n\u001b[0;31m    return sum(num_list)/len(num_list)\u001b[0m\n\u001b[0m         ^\u001b[0m\n\u001b[0;31mIndentationError\u001b[0m\u001b[0;31m:\u001b[0m expected an indented block\n"
          ]
        }
      ]
    },
    {
      "cell_type": "markdown",
      "metadata": {
        "id": "zQ9v9D7OBNQh"
      },
      "source": [
        "Exercise 9(a)"
      ]
    },
    {
      "cell_type": "code",
      "metadata": {
        "colab": {
          "base_uri": "https://localhost:8080/",
          "height": 476
        },
        "id": "Te_QhWi-BQg0",
        "outputId": "96626281-c272-4feb-cf98-4dd3cb9a93ec"
      },
      "source": [
        " \n",
        "def dups(numlist):\n",
        "    temp=[]\n",
        "    for i in numlist:\n",
        "        cnt=numlist.count(i)\n",
        "        if(cnt>l and (i not in temp)):\n",
        "            temp.append(i)\n",
        "    print(\"Duplicates in the list: \",temp)\n",
        "   \n",
        "lst=[1,2,6,9,1,3,5,2,1]\n",
        "print(\"Given elements in the list: \",lst)\n",
        "dups(lst)"
      ],
      "execution_count": null,
      "outputs": [
        {
          "output_type": "stream",
          "text": [
            "Given elements in the list:  [1, 2, 6, 9, 1, 3, 5, 2, 1]\n"
          ],
          "name": "stdout"
        },
        {
          "output_type": "error",
          "ename": "NameError",
          "evalue": "ignored",
          "traceback": [
            "\u001b[0;31m---------------------------------------------------------------------------\u001b[0m",
            "\u001b[0;31mNameError\u001b[0m                                 Traceback (most recent call last)",
            "\u001b[0;32m<ipython-input-14-9db265581ca7>\u001b[0m in \u001b[0;36m<module>\u001b[0;34m()\u001b[0m\n\u001b[1;32m     10\u001b[0m \u001b[0mlst\u001b[0m\u001b[0;34m=\u001b[0m\u001b[0;34m[\u001b[0m\u001b[0;36m1\u001b[0m\u001b[0;34m,\u001b[0m\u001b[0;36m2\u001b[0m\u001b[0;34m,\u001b[0m\u001b[0;36m6\u001b[0m\u001b[0;34m,\u001b[0m\u001b[0;36m9\u001b[0m\u001b[0;34m,\u001b[0m\u001b[0;36m1\u001b[0m\u001b[0;34m,\u001b[0m\u001b[0;36m3\u001b[0m\u001b[0;34m,\u001b[0m\u001b[0;36m5\u001b[0m\u001b[0;34m,\u001b[0m\u001b[0;36m2\u001b[0m\u001b[0;34m,\u001b[0m\u001b[0;36m1\u001b[0m\u001b[0;34m]\u001b[0m\u001b[0;34m\u001b[0m\u001b[0;34m\u001b[0m\u001b[0m\n\u001b[1;32m     11\u001b[0m \u001b[0mprint\u001b[0m\u001b[0;34m(\u001b[0m\u001b[0;34m\"Given elements in the list: \"\u001b[0m\u001b[0;34m,\u001b[0m\u001b[0mlst\u001b[0m\u001b[0;34m)\u001b[0m\u001b[0;34m\u001b[0m\u001b[0;34m\u001b[0m\u001b[0m\n\u001b[0;32m---> 12\u001b[0;31m \u001b[0mdups\u001b[0m\u001b[0;34m(\u001b[0m\u001b[0mlst\u001b[0m\u001b[0;34m)\u001b[0m\u001b[0;34m\u001b[0m\u001b[0;34m\u001b[0m\u001b[0m\n\u001b[0m",
            "\u001b[0;32m<ipython-input-14-9db265581ca7>\u001b[0m in \u001b[0;36mdups\u001b[0;34m(numlist)\u001b[0m\n\u001b[1;32m      4\u001b[0m    \u001b[0;32mfor\u001b[0m \u001b[0mi\u001b[0m \u001b[0;32min\u001b[0m \u001b[0mnumlist\u001b[0m\u001b[0;34m:\u001b[0m\u001b[0;34m\u001b[0m\u001b[0;34m\u001b[0m\u001b[0m\n\u001b[1;32m      5\u001b[0m        \u001b[0mcnt\u001b[0m\u001b[0;34m=\u001b[0m\u001b[0mnumlist\u001b[0m\u001b[0;34m.\u001b[0m\u001b[0mcount\u001b[0m\u001b[0;34m(\u001b[0m\u001b[0mi\u001b[0m\u001b[0;34m)\u001b[0m\u001b[0;34m\u001b[0m\u001b[0;34m\u001b[0m\u001b[0m\n\u001b[0;32m----> 6\u001b[0;31m        \u001b[0;32mif\u001b[0m\u001b[0;34m(\u001b[0m\u001b[0mcnt\u001b[0m\u001b[0;34m>\u001b[0m\u001b[0ml\u001b[0m \u001b[0;32mand\u001b[0m \u001b[0;34m(\u001b[0m\u001b[0mi\u001b[0m \u001b[0;32mnot\u001b[0m \u001b[0;32min\u001b[0m \u001b[0mtemp\u001b[0m\u001b[0;34m)\u001b[0m\u001b[0;34m)\u001b[0m\u001b[0;34m:\u001b[0m\u001b[0;34m\u001b[0m\u001b[0;34m\u001b[0m\u001b[0m\n\u001b[0m\u001b[1;32m      7\u001b[0m            \u001b[0mtemp\u001b[0m\u001b[0;34m.\u001b[0m\u001b[0mappend\u001b[0m\u001b[0;34m(\u001b[0m\u001b[0mi\u001b[0m\u001b[0;34m)\u001b[0m\u001b[0;34m\u001b[0m\u001b[0;34m\u001b[0m\u001b[0m\n\u001b[1;32m      8\u001b[0m    \u001b[0mprint\u001b[0m\u001b[0;34m(\u001b[0m\u001b[0;34m\"Duplicates in the list: \"\u001b[0m\u001b[0;34m,\u001b[0m\u001b[0mtemp\u001b[0m\u001b[0;34m)\u001b[0m\u001b[0;34m\u001b[0m\u001b[0;34m\u001b[0m\u001b[0m\n",
            "\u001b[0;31mNameError\u001b[0m: name 'l' is not defined"
          ]
        }
      ]
    },
    {
      "cell_type": "markdown",
      "metadata": {
        "id": "oQ_1FKWUBbYf"
      },
      "source": [
        "Exercise 9(b)"
      ]
    },
    {
      "cell_type": "code",
      "metadata": {
        "colab": {
          "base_uri": "https://localhost:8080/",
          "height": 336
        },
        "id": "OY53m7ghBds7",
        "outputId": "16034d34-64de-4d38-e4e5-fe0e75a93190"
      },
      "source": [
        " \n",
        "def nearly_eq(str1,str2):\n",
        "  count=0\n",
        "  i=j=0\n",
        "  while(i<len(str1) and j<len(str2)):\n",
        "   if (str1[i]!=str2[j]):\n",
        "      count+=1\n",
        "      if(len(str1)>len(str2)):\n",
        "        i+=1\n",
        "      elif(len(str1)-len(str2)):\n",
        "         pass\n",
        "      else:\n",
        "         i-=1\n",
        "   if(count>1):\n",
        "         return False\n",
        "         i+=1\n",
        "         j+=1\n",
        "   if(count<2):\n",
        "      return True\n",
        "sl=input(\"Enter String1: \")\n",
        "s2=input(\"Enter String2: \")\n",
        "bln=nearly_eq(s1,s2)\n",
        "if(bln):\n",
        "   print(\"Strings are nearly equal.\")\n",
        "else:\n",
        "   print(\"String are NOT equal.\")"
      ],
      "execution_count": null,
      "outputs": [
        {
          "output_type": "stream",
          "text": [
            "Enter String1: Choppala keerthi \n",
            "Enter String2: keerthi\n"
          ],
          "name": "stdout"
        },
        {
          "output_type": "error",
          "ename": "NameError",
          "evalue": "ignored",
          "traceback": [
            "\u001b[0;31m---------------------------------------------------------------------------\u001b[0m",
            "\u001b[0;31mNameError\u001b[0m                                 Traceback (most recent call last)",
            "\u001b[0;32m<ipython-input-15-330e926a5ae5>\u001b[0m in \u001b[0;36m<module>\u001b[0;34m()\u001b[0m\n\u001b[1;32m     20\u001b[0m \u001b[0msl\u001b[0m\u001b[0;34m=\u001b[0m\u001b[0minput\u001b[0m\u001b[0;34m(\u001b[0m\u001b[0;34m\"Enter String1: \"\u001b[0m\u001b[0;34m)\u001b[0m\u001b[0;34m\u001b[0m\u001b[0;34m\u001b[0m\u001b[0m\n\u001b[1;32m     21\u001b[0m \u001b[0ms2\u001b[0m\u001b[0;34m=\u001b[0m\u001b[0minput\u001b[0m\u001b[0;34m(\u001b[0m\u001b[0;34m\"Enter String2: \"\u001b[0m\u001b[0;34m)\u001b[0m\u001b[0;34m\u001b[0m\u001b[0;34m\u001b[0m\u001b[0m\n\u001b[0;32m---> 22\u001b[0;31m \u001b[0mbln\u001b[0m\u001b[0;34m=\u001b[0m\u001b[0mnearly_eq\u001b[0m\u001b[0;34m(\u001b[0m\u001b[0ms1\u001b[0m\u001b[0;34m,\u001b[0m\u001b[0ms2\u001b[0m\u001b[0;34m)\u001b[0m\u001b[0;34m\u001b[0m\u001b[0;34m\u001b[0m\u001b[0m\n\u001b[0m\u001b[1;32m     23\u001b[0m \u001b[0;32mif\u001b[0m\u001b[0;34m(\u001b[0m\u001b[0mbln\u001b[0m\u001b[0;34m)\u001b[0m\u001b[0;34m:\u001b[0m\u001b[0;34m\u001b[0m\u001b[0;34m\u001b[0m\u001b[0m\n\u001b[1;32m     24\u001b[0m   \u001b[0mprint\u001b[0m\u001b[0;34m(\u001b[0m\u001b[0;34m\"Strings are nearly equal.\"\u001b[0m\u001b[0;34m)\u001b[0m\u001b[0;34m\u001b[0m\u001b[0;34m\u001b[0m\u001b[0m\n",
            "\u001b[0;31mNameError\u001b[0m: name 's1' is not defined"
          ]
        }
      ]
    },
    {
      "cell_type": "markdown",
      "metadata": {
        "id": "xRruqLftB_tN"
      },
      "source": [
        "Exercise 9(c)"
      ]
    },
    {
      "cell_type": "code",
      "metadata": {
        "colab": {
          "base_uri": "https://localhost:8080/"
        },
        "id": "EXDykWf6CQet",
        "outputId": "e2f97222-68be-4220-b965-234d9e6efa63"
      },
      "source": [
        " \n",
        "def Unique(lst):\n",
        "  for i in lst:\n",
        "    count=lst.count(i)\n",
        "    if count==1:\n",
        "      print(i,end=\"  \")\n",
        "n=int(input(\"Enter number of elements in a list:\"))\n",
        "lst=[int(input()) for i in range(n)]\n",
        "print(\"list elements:\",lst)\n",
        "print(\"Unique elements :\",end=\"\")\n",
        "Unique(lst)"
      ],
      "execution_count": null,
      "outputs": [
        {
          "output_type": "stream",
          "text": [
            "Enter number of elements in a list:7\n",
            "1\n",
            "2\n",
            "3\n",
            "4\n",
            "5\n",
            "6\n",
            "7\n",
            "list elements: [1, 2, 3, 4, 5, 6, 7]\n",
            "Unique elements :1  2  3  4  5  6  7  "
          ],
          "name": "stdout"
        }
      ]
    },
    {
      "cell_type": "markdown",
      "metadata": {
        "id": "rxPeowRbCuJ5"
      },
      "source": [
        "Exercise 10(a)"
      ]
    },
    {
      "cell_type": "code",
      "metadata": {
        "colab": {
          "base_uri": "https://localhost:8080/"
        },
        "id": "TdVT8KdQCya5",
        "outputId": "6deb9030-f668-489f-8291-2cc57c6ba851"
      },
      "source": [
        " \n",
        "def cum_pro(numlist):\n",
        "  pro=1\n",
        "  temp=[]\n",
        "  for i in  numlist:\n",
        "    pro*=i\n",
        "    temp.append(pro)\n",
        "  return temp\n",
        "lst=[10,40,2,4,3]\n",
        "print(\"list=\",lst)\n",
        "print(\"cumulative product=\",cum_pro(lst))"
      ],
      "execution_count": null,
      "outputs": [
        {
          "output_type": "stream",
          "text": [
            "list= [10, 40, 2, 4, 3]\n",
            "cumulative product= [10, 400, 800, 3200, 9600]\n"
          ],
          "name": "stdout"
        }
      ]
    },
    {
      "cell_type": "markdown",
      "metadata": {
        "id": "8cqYfoBqC8qt"
      },
      "source": [
        "Exercise 10(b)"
      ]
    },
    {
      "cell_type": "code",
      "metadata": {
        "colab": {
          "base_uri": "https://localhost:8080/"
        },
        "id": "k0YHkt2xC-iH",
        "outputId": "ae9f0bb4-acde-40d9-ce52-1a95f82251a5"
      },
      "source": [
        " \n",
        "def rev_lst(numlist):\n",
        "  i=0\n",
        "  j=len(numlist)-1\n",
        "  while(i<=j):\n",
        "    temp=numlist[i]\n",
        "    numlist[i]=numlist[j]\n",
        "    numlist[j]=temp\n",
        "    j-=1\n",
        "    i+=1\n",
        "  return numlist\n",
        "lst=[10,0,30,400,5]\n",
        "print(\"list=\",lst)\n",
        "rev_lst(lst)\n",
        "print(\"reverse list=\",lst)"
      ],
      "execution_count": null,
      "outputs": [
        {
          "output_type": "stream",
          "text": [
            "list= [10, 0, 30, 400, 5]\n",
            "reverse list= [5, 400, 30, 0, 10]\n"
          ],
          "name": "stdout"
        }
      ]
    },
    {
      "cell_type": "markdown",
      "metadata": {
        "id": "d6Cjyk7iDYA_"
      },
      "source": [
        "Exercise 10(c)"
      ]
    },
    {
      "cell_type": "code",
      "metadata": {
        "id": "pxT61S9CDZ9N",
        "colab": {
          "base_uri": "https://localhost:8080/"
        },
        "outputId": "e71f2e2c-de89-473f-be70-231f5454a12c"
      },
      "source": [
        " \n",
        "gcd=lambda a,b:a if b==0 else gcd(a,a%b)\n",
        "lcm=lambda a,b:(a*b)/gcd(a,b)\n",
        "x=5\n",
        "y=25\n",
        "print(\"Given numbers=\",x,y)\n",
        "print(\"GCD=\",gcd(x,y))\n",
        "print(\"LCM=\",lcm(x,y))"
      ],
      "execution_count": null,
      "outputs": [
        {
          "output_type": "stream",
          "text": [
            "Given numbers= 5 25\n",
            "GCD= 5\n",
            "LCM= 25.0\n"
          ],
          "name": "stdout"
        }
      ]
    }
  ]
}